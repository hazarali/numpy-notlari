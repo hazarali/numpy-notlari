{
  "nbformat": 4,
  "nbformat_minor": 0,
  "metadata": {
    "colab": {
      "provenance": [],
      "authorship_tag": "ABX9TyMUIrsewyG3R/YQQA/fVyxt",
      "include_colab_link": true
    },
    "kernelspec": {
      "name": "python3",
      "display_name": "Python 3"
    },
    "language_info": {
      "name": "python"
    }
  },
  "cells": [
    {
      "cell_type": "markdown",
      "metadata": {
        "id": "view-in-github",
        "colab_type": "text"
      },
      "source": [
        "<a href=\"https://colab.research.google.com/github/hazarali/numpy-notlari/blob/main/numpy_notlar%C4%B1.ipynb\" target=\"_parent\"><img src=\"https://colab.research.google.com/assets/colab-badge.svg\" alt=\"Open In Colab\"/></a>"
      ]
    },
    {
      "cell_type": "code",
      "execution_count": null,
      "metadata": {
        "colab": {
          "base_uri": "https://localhost:8080/"
        },
        "id": "SBxgczvFBpoU",
        "outputId": "1518a66b-0a8a-435b-bfb5-02f3e7ff968e"
      },
      "outputs": [
        {
          "output_type": "stream",
          "name": "stdout",
          "text": [
            "Mounted at /content/gdrive\n"
          ]
        }
      ],
      "source": [
        "import cv2\n",
        "from glob import glob\n",
        "from tensorflow.keras import Input\n",
        "from tensorflow.keras.models import Model\n",
        "from tensorflow.keras.optimizers import RMSprop\n",
        "from matplotlib import  pyplot\n",
        "\n",
        "\n",
        "from google.colab import drive\n",
        "drive.mount(\"/content/gdrive\")"
      ]
    },
    {
      "cell_type": "code",
      "source": [
        "import numpy as np \n"
      ],
      "metadata": {
        "id": "BCYEXK6oByLP"
      },
      "execution_count": null,
      "outputs": []
    },
    {
      "cell_type": "code",
      "source": [
        "a=np.array([1,2,3])"
      ],
      "metadata": {
        "id": "auGX0G05Cpp8"
      },
      "execution_count": null,
      "outputs": []
    },
    {
      "cell_type": "code",
      "source": [
        "b=np.array([[1,2,3],[4,5,6]])\n",
        "c=np.array([[[[[1,2,3],[4,5,6],[7,8,9]]]]])"
      ],
      "metadata": {
        "id": "bSefrOlCCtBR"
      },
      "execution_count": null,
      "outputs": []
    },
    {
      "cell_type": "code",
      "source": [
        "print(a.shape)\n",
        "print(a.ndim)"
      ],
      "metadata": {
        "colab": {
          "base_uri": "https://localhost:8080/"
        },
        "id": "vdAhRezeC4b5",
        "outputId": "7db342d9-27c2-4f91-9db1-08c464fcc2c0"
      },
      "execution_count": null,
      "outputs": [
        {
          "output_type": "stream",
          "name": "stdout",
          "text": [
            "(3,)\n",
            "1\n"
          ]
        }
      ]
    },
    {
      "cell_type": "code",
      "source": [
        "b.shape"
      ],
      "metadata": {
        "colab": {
          "base_uri": "https://localhost:8080/"
        },
        "id": "JFrQWc7TDQl8",
        "outputId": "db6a8fff-c980-429f-f629-88fc117a817a"
      },
      "execution_count": null,
      "outputs": [
        {
          "output_type": "execute_result",
          "data": {
            "text/plain": [
              "(2, 3)"
            ]
          },
          "metadata": {},
          "execution_count": 9
        }
      ]
    },
    {
      "cell_type": "code",
      "source": [
        "c.shape"
      ],
      "metadata": {
        "colab": {
          "base_uri": "https://localhost:8080/"
        },
        "id": "6D-iqMDxDRiX",
        "outputId": "0d917c79-f49a-4d4c-e025-4156fcf6081f"
      },
      "execution_count": null,
      "outputs": [
        {
          "output_type": "execute_result",
          "data": {
            "text/plain": [
              "(1, 1, 1, 3, 3)"
            ]
          },
          "metadata": {},
          "execution_count": 10
        }
      ]
    },
    {
      "cell_type": "code",
      "source": [
        "type(c)"
      ],
      "metadata": {
        "colab": {
          "base_uri": "https://localhost:8080/"
        },
        "id": "wrxyj3dEDTGX",
        "outputId": "bb741a9e-b75b-4c6e-db17-51548ac8e1b9"
      },
      "execution_count": null,
      "outputs": [
        {
          "output_type": "execute_result",
          "data": {
            "text/plain": [
              "numpy.ndarray"
            ]
          },
          "metadata": {},
          "execution_count": 11
        }
      ]
    },
    {
      "cell_type": "code",
      "source": [
        "d=np.array([[[1,2,3]]])"
      ],
      "metadata": {
        "id": "1kYn-vrjDWn4"
      },
      "execution_count": null,
      "outputs": []
    },
    {
      "cell_type": "code",
      "source": [
        "d.shape"
      ],
      "metadata": {
        "colab": {
          "base_uri": "https://localhost:8080/"
        },
        "id": "ErwfFEHFEeH-",
        "outputId": "2ca2711a-e25e-4ceb-f2da-c29cc981d6f3"
      },
      "execution_count": null,
      "outputs": [
        {
          "output_type": "execute_result",
          "data": {
            "text/plain": [
              "(1, 1, 3)"
            ]
          },
          "metadata": {},
          "execution_count": 13
        }
      ]
    },
    {
      "cell_type": "code",
      "source": [
        "e=np.array([[[1,2,3],[4,5,6],[1,2,3],[1,2,3],[1,2,3]]])"
      ],
      "metadata": {
        "id": "eJLvXkciEfOG"
      },
      "execution_count": null,
      "outputs": []
    },
    {
      "cell_type": "code",
      "source": [
        "e.shape"
      ],
      "metadata": {
        "colab": {
          "base_uri": "https://localhost:8080/"
        },
        "id": "Cf8PVQ5BEtDN",
        "outputId": "5509f17c-4455-4468-a536-8aa074c27297"
      },
      "execution_count": null,
      "outputs": [
        {
          "output_type": "execute_result",
          "data": {
            "text/plain": [
              "(1, 5, 3)"
            ]
          },
          "metadata": {},
          "execution_count": 19
        }
      ]
    },
    {
      "cell_type": "code",
      "source": [
        "f=np.ones((3,3))"
      ],
      "metadata": {
        "id": "xSyQY4H3Etyx"
      },
      "execution_count": null,
      "outputs": []
    },
    {
      "cell_type": "code",
      "source": [
        "f"
      ],
      "metadata": {
        "colab": {
          "base_uri": "https://localhost:8080/"
        },
        "id": "8rnlyyXoFBR_",
        "outputId": "f130a779-ffa0-4b4d-a4ff-13b30f7ad200"
      },
      "execution_count": null,
      "outputs": [
        {
          "output_type": "execute_result",
          "data": {
            "text/plain": [
              "array([[1., 1., 1.],\n",
              "       [1., 1., 1.],\n",
              "       [1., 1., 1.]])"
            ]
          },
          "metadata": {},
          "execution_count": 21
        }
      ]
    },
    {
      "cell_type": "code",
      "source": [
        "f.shape"
      ],
      "metadata": {
        "colab": {
          "base_uri": "https://localhost:8080/"
        },
        "id": "NJUelrNFFDeH",
        "outputId": "d34afbae-fa79-4aa4-c6f1-d480b0274ac9"
      },
      "execution_count": null,
      "outputs": [
        {
          "output_type": "execute_result",
          "data": {
            "text/plain": [
              "(3, 3)"
            ]
          },
          "metadata": {},
          "execution_count": 22
        }
      ]
    },
    {
      "cell_type": "code",
      "source": [
        "np.linspace(0,30,10)"
      ],
      "metadata": {
        "colab": {
          "base_uri": "https://localhost:8080/"
        },
        "id": "cdVO8hc-FGU2",
        "outputId": "7a28de2d-41ef-407a-fced-9e16a7098d51"
      },
      "execution_count": null,
      "outputs": [
        {
          "output_type": "execute_result",
          "data": {
            "text/plain": [
              "array([ 0.        ,  3.33333333,  6.66666667, 10.        , 13.33333333,\n",
              "       16.66666667, 20.        , 23.33333333, 26.66666667, 30.        ])"
            ]
          },
          "metadata": {},
          "execution_count": 23
        }
      ]
    },
    {
      "cell_type": "code",
      "source": [
        "np.random.rand(10)"
      ],
      "metadata": {
        "colab": {
          "base_uri": "https://localhost:8080/"
        },
        "id": "0wb7CBBhGYMK",
        "outputId": "cb6d1f1c-2ba5-4c21-d291-2a766593ce14"
      },
      "execution_count": null,
      "outputs": [
        {
          "output_type": "execute_result",
          "data": {
            "text/plain": [
              "array([0.87804174, 0.01195816, 0.43586825, 0.10166278, 0.00552591,\n",
              "       0.26815267, 0.63667939, 0.37602548, 0.92802654, 0.90821541])"
            ]
          },
          "metadata": {},
          "execution_count": 25
        }
      ]
    },
    {
      "cell_type": "code",
      "source": [
        "np.random.rand(2,3)"
      ],
      "metadata": {
        "colab": {
          "base_uri": "https://localhost:8080/"
        },
        "id": "4rNqXal2GqvT",
        "outputId": "287c35e1-1742-4111-c6e2-1244a10f416f"
      },
      "execution_count": null,
      "outputs": [
        {
          "output_type": "execute_result",
          "data": {
            "text/plain": [
              "array([[0.64511713, 0.81656985, 0.45408356],\n",
              "       [0.98785216, 0.77921226, 0.00784699]])"
            ]
          },
          "metadata": {},
          "execution_count": 26
        }
      ]
    },
    {
      "cell_type": "code",
      "source": [
        "?np.random.randint"
      ],
      "metadata": {
        "id": "8kdQ4e5vHYSV"
      },
      "execution_count": null,
      "outputs": []
    },
    {
      "cell_type": "code",
      "source": [
        "np.random.randint(3,19,(2,2))"
      ],
      "metadata": {
        "colab": {
          "base_uri": "https://localhost:8080/"
        },
        "id": "s49lFPHyHjQp",
        "outputId": "17821a39-c7be-42c9-8c2c-58e321d1b36a"
      },
      "execution_count": null,
      "outputs": [
        {
          "output_type": "execute_result",
          "data": {
            "text/plain": [
              "array([[ 6, 15],\n",
              "       [10, 17]])"
            ]
          },
          "metadata": {},
          "execution_count": 28
        }
      ]
    },
    {
      "cell_type": "code",
      "source": [
        "?np.random.normal"
      ],
      "metadata": {
        "id": "sXLUF1iWHaVD"
      },
      "execution_count": null,
      "outputs": []
    },
    {
      "cell_type": "code",
      "source": [
        "?np.random.randn"
      ],
      "metadata": {
        "id": "n128DLBDN9JI"
      },
      "execution_count": null,
      "outputs": []
    },
    {
      "cell_type": "code",
      "source": [
        "g=np.random.randint(0,20,(4,3))"
      ],
      "metadata": {
        "id": "vPVSYOE5OcQV"
      },
      "execution_count": null,
      "outputs": []
    },
    {
      "cell_type": "code",
      "source": [
        "print(g)\n",
        "print(g.shape)"
      ],
      "metadata": {
        "colab": {
          "base_uri": "https://localhost:8080/"
        },
        "id": "Uk6ZJXoHO4JX",
        "outputId": "b32c5aba-6e1e-4033-8059-fc42e189ab88"
      },
      "execution_count": null,
      "outputs": [
        {
          "output_type": "stream",
          "name": "stdout",
          "text": [
            "[[17  0  1]\n",
            " [ 0 14  4]\n",
            " [13  0  7]\n",
            " [ 3 16 10]]\n",
            "(4, 3)\n"
          ]
        }
      ]
    },
    {
      "cell_type": "code",
      "source": [
        "g.ndim "
      ],
      "metadata": {
        "colab": {
          "base_uri": "https://localhost:8080/"
        },
        "id": "5ErqcMU2O4vL",
        "outputId": "96e1b0d2-2134-45a0-9b8d-b434f4f46812"
      },
      "execution_count": null,
      "outputs": [
        {
          "output_type": "execute_result",
          "data": {
            "text/plain": [
              "2"
            ]
          },
          "metadata": {},
          "execution_count": 37
        }
      ]
    },
    {
      "cell_type": "code",
      "source": [
        "d=np.random.randint(1,20,(3,4,6))"
      ],
      "metadata": {
        "id": "S0nsa0gVO6Mj"
      },
      "execution_count": null,
      "outputs": []
    },
    {
      "cell_type": "code",
      "source": [
        "d"
      ],
      "metadata": {
        "colab": {
          "base_uri": "https://localhost:8080/"
        },
        "id": "0n98LKduPl36",
        "outputId": "645ff87c-a353-4c3f-bdb1-12143f0753b6"
      },
      "execution_count": null,
      "outputs": [
        {
          "output_type": "execute_result",
          "data": {
            "text/plain": [
              "array([[[14,  8,  6,  5, 10, 17],\n",
              "        [ 8, 18,  1,  6,  7,  8],\n",
              "        [ 1,  6, 15, 13, 13, 13],\n",
              "        [11,  7, 16, 10, 14, 12]],\n",
              "\n",
              "       [[ 1,  1,  1,  4, 18, 12],\n",
              "        [ 8,  9,  2, 16,  1,  8],\n",
              "        [ 6, 19,  9,  3, 14, 15],\n",
              "        [ 7, 11,  6, 16, 17, 11]],\n",
              "\n",
              "       [[16,  2,  7,  6, 16, 15],\n",
              "        [11, 12, 16,  6, 19,  9],\n",
              "        [17, 15,  3, 18, 15,  7],\n",
              "        [17,  6, 13, 13, 16, 11]]])"
            ]
          },
          "metadata": {},
          "execution_count": 39
        }
      ]
    },
    {
      "cell_type": "code",
      "source": [
        "d=np.random.randint(1,20,(90,4,6))"
      ],
      "metadata": {
        "id": "q_t1QlemPmm-"
      },
      "execution_count": null,
      "outputs": []
    },
    {
      "cell_type": "code",
      "source": [
        "d"
      ],
      "metadata": {
        "colab": {
          "base_uri": "https://localhost:8080/"
        },
        "id": "SBnczX_XPq48",
        "outputId": "a080c187-4555-407e-9be9-5cb17f95c772"
      },
      "execution_count": null,
      "outputs": [
        {
          "output_type": "execute_result",
          "data": {
            "text/plain": [
              "array([[[ 1, 11,  5,  7,  8,  1],\n",
              "        [ 5, 18,  2,  3, 10,  1],\n",
              "        [12, 16, 13,  4,  5, 18],\n",
              "        [ 5, 16,  9,  7, 13, 14]],\n",
              "\n",
              "       [[ 4, 14, 17, 16,  6,  8],\n",
              "        [18, 14, 10, 15,  1, 18],\n",
              "        [ 1, 12,  8, 13,  6, 17],\n",
              "        [ 4, 15,  6,  5,  1,  4]],\n",
              "\n",
              "       [[12, 14, 17, 12,  4, 15],\n",
              "        [ 6,  3, 18, 14, 10,  9],\n",
              "        [13,  2, 12, 14, 12, 15],\n",
              "        [ 4,  1,  8,  5, 11,  4]],\n",
              "\n",
              "       ...,\n",
              "\n",
              "       [[ 7,  8, 19, 16, 16,  9],\n",
              "        [ 1, 12, 15,  8,  5,  8],\n",
              "        [ 6,  5,  2, 10,  6,  1],\n",
              "        [ 5, 16, 14,  8,  4,  1]],\n",
              "\n",
              "       [[ 8, 11,  6,  1, 13,  3],\n",
              "        [11,  5, 17,  2, 10,  9],\n",
              "        [ 5,  2,  7, 18, 19,  3],\n",
              "        [ 9, 17,  8,  5,  5, 17]],\n",
              "\n",
              "       [[19,  7, 14, 15,  5, 14],\n",
              "        [10, 11,  2,  5, 19,  9],\n",
              "        [13, 14, 17,  9,  3,  3],\n",
              "        [15, 10,  2,  8,  6, 13]]])"
            ]
          },
          "metadata": {},
          "execution_count": 41
        }
      ]
    },
    {
      "cell_type": "code",
      "source": [
        "d.shape"
      ],
      "metadata": {
        "colab": {
          "base_uri": "https://localhost:8080/"
        },
        "id": "Glwo5EspPrhb",
        "outputId": "5deb59aa-13b5-43f0-d142-78d5804f0afa"
      },
      "execution_count": null,
      "outputs": [
        {
          "output_type": "execute_result",
          "data": {
            "text/plain": [
              "(90, 4, 6)"
            ]
          },
          "metadata": {},
          "execution_count": 42
        }
      ]
    },
    {
      "cell_type": "code",
      "source": [
        "h=np.random.randint(3,30,5)"
      ],
      "metadata": {
        "id": "1kBXbwJ_Pu0j"
      },
      "execution_count": null,
      "outputs": []
    },
    {
      "cell_type": "code",
      "source": [
        "for i in dir(h):\n",
        "  print(i)"
      ],
      "metadata": {
        "colab": {
          "base_uri": "https://localhost:8080/"
        },
        "id": "z57mHOz_QZYK",
        "outputId": "28603394-0574-4831-b37c-559a282569c1"
      },
      "execution_count": null,
      "outputs": [
        {
          "output_type": "stream",
          "name": "stdout",
          "text": [
            "T\n",
            "__abs__\n",
            "__add__\n",
            "__and__\n",
            "__array__\n",
            "__array_finalize__\n",
            "__array_function__\n",
            "__array_interface__\n",
            "__array_prepare__\n",
            "__array_priority__\n",
            "__array_struct__\n",
            "__array_ufunc__\n",
            "__array_wrap__\n",
            "__bool__\n",
            "__class__\n",
            "__complex__\n",
            "__contains__\n",
            "__copy__\n",
            "__deepcopy__\n",
            "__delattr__\n",
            "__delitem__\n",
            "__dir__\n",
            "__divmod__\n",
            "__doc__\n",
            "__eq__\n",
            "__float__\n",
            "__floordiv__\n",
            "__format__\n",
            "__ge__\n",
            "__getattribute__\n",
            "__getitem__\n",
            "__gt__\n",
            "__hash__\n",
            "__iadd__\n",
            "__iand__\n",
            "__ifloordiv__\n",
            "__ilshift__\n",
            "__imatmul__\n",
            "__imod__\n",
            "__imul__\n",
            "__index__\n",
            "__init__\n",
            "__init_subclass__\n",
            "__int__\n",
            "__invert__\n",
            "__ior__\n",
            "__ipow__\n",
            "__irshift__\n",
            "__isub__\n",
            "__iter__\n",
            "__itruediv__\n",
            "__ixor__\n",
            "__le__\n",
            "__len__\n",
            "__lshift__\n",
            "__lt__\n",
            "__matmul__\n",
            "__mod__\n",
            "__mul__\n",
            "__ne__\n",
            "__neg__\n",
            "__new__\n",
            "__or__\n",
            "__pos__\n",
            "__pow__\n",
            "__radd__\n",
            "__rand__\n",
            "__rdivmod__\n",
            "__reduce__\n",
            "__reduce_ex__\n",
            "__repr__\n",
            "__rfloordiv__\n",
            "__rlshift__\n",
            "__rmatmul__\n",
            "__rmod__\n",
            "__rmul__\n",
            "__ror__\n",
            "__rpow__\n",
            "__rrshift__\n",
            "__rshift__\n",
            "__rsub__\n",
            "__rtruediv__\n",
            "__rxor__\n",
            "__setattr__\n",
            "__setitem__\n",
            "__setstate__\n",
            "__sizeof__\n",
            "__str__\n",
            "__sub__\n",
            "__subclasshook__\n",
            "__truediv__\n",
            "__xor__\n",
            "all\n",
            "any\n",
            "argmax\n",
            "argmin\n",
            "argpartition\n",
            "argsort\n",
            "astype\n",
            "base\n",
            "byteswap\n",
            "choose\n",
            "clip\n",
            "compress\n",
            "conj\n",
            "conjugate\n",
            "copy\n",
            "ctypes\n",
            "cumprod\n",
            "cumsum\n",
            "data\n",
            "diagonal\n",
            "dot\n",
            "dtype\n",
            "dump\n",
            "dumps\n",
            "fill\n",
            "flags\n",
            "flat\n",
            "flatten\n",
            "getfield\n",
            "imag\n",
            "item\n",
            "itemset\n",
            "itemsize\n",
            "max\n",
            "mean\n",
            "min\n",
            "nbytes\n",
            "ndim\n",
            "newbyteorder\n",
            "nonzero\n",
            "partition\n",
            "prod\n",
            "ptp\n",
            "put\n",
            "ravel\n",
            "real\n",
            "repeat\n",
            "reshape\n",
            "resize\n",
            "round\n",
            "searchsorted\n",
            "setfield\n",
            "setflags\n",
            "shape\n",
            "size\n",
            "sort\n",
            "squeeze\n",
            "std\n",
            "strides\n",
            "sum\n",
            "swapaxes\n",
            "take\n",
            "tobytes\n",
            "tofile\n",
            "tolist\n",
            "tostring\n",
            "trace\n",
            "transpose\n",
            "var\n",
            "view\n"
          ]
        }
      ]
    },
    {
      "cell_type": "code",
      "source": [
        "?np.argmax"
      ],
      "metadata": {
        "id": "541ejmyxQe-J"
      },
      "execution_count": null,
      "outputs": []
    },
    {
      "cell_type": "code",
      "source": [
        "h.argmax()"
      ],
      "metadata": {
        "colab": {
          "base_uri": "https://localhost:8080/"
        },
        "id": "lYUVcATMQuaN",
        "outputId": "ffa3efaa-cdc6-4340-d96c-cc1252a362b6"
      },
      "execution_count": null,
      "outputs": [
        {
          "output_type": "execute_result",
          "data": {
            "text/plain": [
              "2"
            ]
          },
          "metadata": {},
          "execution_count": 46
        }
      ]
    },
    {
      "cell_type": "code",
      "source": [
        "h"
      ],
      "metadata": {
        "colab": {
          "base_uri": "https://localhost:8080/"
        },
        "id": "hwyuGtI_Qzi9",
        "outputId": "f8b5acda-be25-41a1-a633-be6bff556554"
      },
      "execution_count": null,
      "outputs": [
        {
          "output_type": "execute_result",
          "data": {
            "text/plain": [
              "array([17,  7, 28, 16,  3])"
            ]
          },
          "metadata": {},
          "execution_count": 47
        }
      ]
    },
    {
      "cell_type": "code",
      "source": [
        "np.argmax(h)"
      ],
      "metadata": {
        "colab": {
          "base_uri": "https://localhost:8080/"
        },
        "id": "Fqhf_KE1Q4Db",
        "outputId": "ee37af9f-7dc0-41cc-a0ff-58db9aaf100a"
      },
      "execution_count": null,
      "outputs": [
        {
          "output_type": "execute_result",
          "data": {
            "text/plain": [
              "2"
            ]
          },
          "metadata": {},
          "execution_count": 48
        }
      ]
    },
    {
      "cell_type": "code",
      "source": [
        "deneme=np.random.randint(0,30,(4,5))"
      ],
      "metadata": {
        "id": "a6ZGgTNyQ7sN"
      },
      "execution_count": null,
      "outputs": []
    },
    {
      "cell_type": "code",
      "source": [
        "deneme.argmax()"
      ],
      "metadata": {
        "colab": {
          "base_uri": "https://localhost:8080/"
        },
        "id": "gFb9my7tRCqH",
        "outputId": "56f43c4b-6d75-464f-f84b-fabbff02e419"
      },
      "execution_count": null,
      "outputs": [
        {
          "output_type": "execute_result",
          "data": {
            "text/plain": [
              "10"
            ]
          },
          "metadata": {},
          "execution_count": 50
        }
      ]
    },
    {
      "cell_type": "code",
      "source": [
        "deneme"
      ],
      "metadata": {
        "colab": {
          "base_uri": "https://localhost:8080/"
        },
        "id": "6tUt_kGrRE4z",
        "outputId": "ef720e51-56eb-437c-ff3b-dc42e332ce1d"
      },
      "execution_count": null,
      "outputs": [
        {
          "output_type": "execute_result",
          "data": {
            "text/plain": [
              "array([[ 4, 21, 16, 20,  6],\n",
              "       [14,  1, 10,  6, 19],\n",
              "       [26,  3,  5, 26,  3],\n",
              "       [ 9,  3, 10, 24, 11]])"
            ]
          },
          "metadata": {},
          "execution_count": 51
        }
      ]
    },
    {
      "cell_type": "code",
      "source": [
        "x=np.array((1,2,3))"
      ],
      "metadata": {
        "id": "9o9EahggRGGz"
      },
      "execution_count": null,
      "outputs": []
    },
    {
      "cell_type": "code",
      "source": [
        "x"
      ],
      "metadata": {
        "colab": {
          "base_uri": "https://localhost:8080/"
        },
        "id": "4e_0HnduUqL1",
        "outputId": "bb633a99-4b58-4d7b-c719-d6b58c5c5efc"
      },
      "execution_count": null,
      "outputs": [
        {
          "output_type": "execute_result",
          "data": {
            "text/plain": [
              "array([1, 2, 3])"
            ]
          },
          "metadata": {},
          "execution_count": 53
        }
      ]
    },
    {
      "cell_type": "code",
      "source": [
        "type(x)"
      ],
      "metadata": {
        "colab": {
          "base_uri": "https://localhost:8080/"
        },
        "id": "vMrjFHxNU3-j",
        "outputId": "3a9be6ae-637c-4469-8ea9-8e73e58a31cf"
      },
      "execution_count": null,
      "outputs": [
        {
          "output_type": "execute_result",
          "data": {
            "text/plain": [
              "numpy.ndarray"
            ]
          },
          "metadata": {},
          "execution_count": 54
        }
      ]
    },
    {
      "cell_type": "code",
      "source": [
        "y=x.reshape(1,3)"
      ],
      "metadata": {
        "id": "pph35VpNU5yE"
      },
      "execution_count": null,
      "outputs": []
    },
    {
      "cell_type": "code",
      "source": [
        "y"
      ],
      "metadata": {
        "colab": {
          "base_uri": "https://localhost:8080/"
        },
        "id": "BZkAYFgyU9DB",
        "outputId": "36232b0c-57d7-4011-8d14-06b3755d0555"
      },
      "execution_count": null,
      "outputs": [
        {
          "output_type": "execute_result",
          "data": {
            "text/plain": [
              "array([[1, 2, 3]])"
            ]
          },
          "metadata": {},
          "execution_count": 56
        }
      ]
    },
    {
      "cell_type": "code",
      "source": [
        "m=np.array([1,2,3])"
      ],
      "metadata": {
        "id": "GWg7HPzyU_Oq"
      },
      "execution_count": null,
      "outputs": []
    },
    {
      "cell_type": "code",
      "source": [
        "m"
      ],
      "metadata": {
        "colab": {
          "base_uri": "https://localhost:8080/"
        },
        "id": "20gvTtG4Wlhg",
        "outputId": "bc3b4cd9-9e1e-4bac-9221-c280fa1b3688"
      },
      "execution_count": null,
      "outputs": [
        {
          "output_type": "execute_result",
          "data": {
            "text/plain": [
              "array([1, 2, 3])"
            ]
          },
          "metadata": {},
          "execution_count": 58
        }
      ]
    },
    {
      "cell_type": "code",
      "source": [
        "n=np.array((1,2,3))"
      ],
      "metadata": {
        "id": "9DCs4_LbWmJx"
      },
      "execution_count": null,
      "outputs": []
    },
    {
      "cell_type": "code",
      "source": [
        "n"
      ],
      "metadata": {
        "colab": {
          "base_uri": "https://localhost:8080/"
        },
        "id": "KLSBGxm8WpTt",
        "outputId": "26fa7e4c-531c-48c6-c66f-adfd134549e8"
      },
      "execution_count": null,
      "outputs": [
        {
          "output_type": "execute_result",
          "data": {
            "text/plain": [
              "array([1, 2, 3])"
            ]
          },
          "metadata": {},
          "execution_count": 60
        }
      ]
    },
    {
      "cell_type": "code",
      "source": [
        "id(n)"
      ],
      "metadata": {
        "colab": {
          "base_uri": "https://localhost:8080/"
        },
        "id": "PZKNCfZCWp2h",
        "outputId": "e41a3b30-edad-464d-bb71-63a97eece77c"
      },
      "execution_count": null,
      "outputs": [
        {
          "output_type": "execute_result",
          "data": {
            "text/plain": [
              "140023436515248"
            ]
          },
          "metadata": {},
          "execution_count": 61
        }
      ]
    },
    {
      "cell_type": "code",
      "source": [
        "np.ndim(m)"
      ],
      "metadata": {
        "colab": {
          "base_uri": "https://localhost:8080/"
        },
        "id": "2XF9Dkd8WsB5",
        "outputId": "e7dd0206-b23b-4c69-a161-dbb39063a881"
      },
      "execution_count": null,
      "outputs": [
        {
          "output_type": "execute_result",
          "data": {
            "text/plain": [
              "1"
            ]
          },
          "metadata": {},
          "execution_count": 62
        }
      ]
    },
    {
      "cell_type": "code",
      "source": [
        "a=np.random.randint(0,20,(3,3))\n",
        "b=np.random.randint(20,30,(3,3))\n",
        "c=np.concatenate([a,b])"
      ],
      "metadata": {
        "id": "rwS5pY3rWs7b"
      },
      "execution_count": null,
      "outputs": []
    },
    {
      "cell_type": "code",
      "source": [
        "c"
      ],
      "metadata": {
        "colab": {
          "base_uri": "https://localhost:8080/"
        },
        "id": "LnnqDHowfSyr",
        "outputId": "a2db8a9b-befe-42e8-edf2-5d0b44182873"
      },
      "execution_count": null,
      "outputs": [
        {
          "output_type": "execute_result",
          "data": {
            "text/plain": [
              "array([[ 9,  5, 17],\n",
              "       [ 5,  2,  3],\n",
              "       [13, 19, 15],\n",
              "       [22, 29, 29],\n",
              "       [23, 25, 25],\n",
              "       [24, 22, 28]])"
            ]
          },
          "metadata": {},
          "execution_count": 64
        }
      ]
    },
    {
      "cell_type": "code",
      "source": [
        "d=a+b"
      ],
      "metadata": {
        "id": "s5ZeA-uXfYNd"
      },
      "execution_count": null,
      "outputs": []
    },
    {
      "cell_type": "code",
      "source": [
        "d"
      ],
      "metadata": {
        "colab": {
          "base_uri": "https://localhost:8080/"
        },
        "id": "M_KjQYGPfdZz",
        "outputId": "9582751e-cff4-4ffc-ca0f-e42cd68ba04d"
      },
      "execution_count": null,
      "outputs": [
        {
          "output_type": "execute_result",
          "data": {
            "text/plain": [
              "array([[31, 34, 46],\n",
              "       [28, 27, 28],\n",
              "       [37, 41, 43]])"
            ]
          },
          "metadata": {},
          "execution_count": 66
        }
      ]
    },
    {
      "cell_type": "code",
      "source": [
        "f=np.hstack([a,b])"
      ],
      "metadata": {
        "id": "RCdMUa82fdn-"
      },
      "execution_count": null,
      "outputs": []
    },
    {
      "cell_type": "code",
      "source": [
        "f"
      ],
      "metadata": {
        "colab": {
          "base_uri": "https://localhost:8080/"
        },
        "id": "6fD7qm9XgVbZ",
        "outputId": "49dc36b5-6829-4961-b9bb-f298366b83b2"
      },
      "execution_count": null,
      "outputs": [
        {
          "output_type": "execute_result",
          "data": {
            "text/plain": [
              "array([[ 3,  5,  5, 24, 26, 25],\n",
              "       [11,  5, 19, 24, 21, 22],\n",
              "       [13,  9,  0, 24, 29, 24]])"
            ]
          },
          "metadata": {},
          "execution_count": 202
        }
      ]
    },
    {
      "cell_type": "code",
      "source": [
        "k=np.vstack([a,b])"
      ],
      "metadata": {
        "id": "t9-AbD-kgYZ1"
      },
      "execution_count": null,
      "outputs": []
    },
    {
      "cell_type": "code",
      "source": [
        "k"
      ],
      "metadata": {
        "colab": {
          "base_uri": "https://localhost:8080/"
        },
        "id": "cXFhA9ocgedL",
        "outputId": "410a22c9-9bf0-4907-c1e7-9e10927bf5a0"
      },
      "execution_count": null,
      "outputs": [
        {
          "output_type": "execute_result",
          "data": {
            "text/plain": [
              "array([[ 3,  5,  5],\n",
              "       [11,  5, 19],\n",
              "       [13,  9,  0],\n",
              "       [24, 26, 25],\n",
              "       [24, 21, 22],\n",
              "       [24, 29, 24]])"
            ]
          },
          "metadata": {},
          "execution_count": 204
        }
      ]
    },
    {
      "cell_type": "code",
      "source": [
        "a"
      ],
      "metadata": {
        "colab": {
          "base_uri": "https://localhost:8080/"
        },
        "id": "fmJ4PbnsgfD0",
        "outputId": "404bf8a0-96c2-41d0-bced-08cce53f3791"
      },
      "execution_count": null,
      "outputs": [
        {
          "output_type": "execute_result",
          "data": {
            "text/plain": [
              "array([[ 3,  5,  5],\n",
              "       [11,  5, 19],\n",
              "       [13,  9,  0]])"
            ]
          },
          "metadata": {},
          "execution_count": 205
        }
      ]
    },
    {
      "cell_type": "code",
      "source": [
        "aa=np.random.randint(1,40,size=(4,7))"
      ],
      "metadata": {
        "id": "JEEUT5lYkPjs"
      },
      "execution_count": null,
      "outputs": []
    },
    {
      "cell_type": "code",
      "source": [
        "aa"
      ],
      "metadata": {
        "colab": {
          "base_uri": "https://localhost:8080/"
        },
        "id": "dlpQb-gNpvZz",
        "outputId": "9759c9ad-186b-4d7a-cb14-bc9ec861c74b"
      },
      "execution_count": null,
      "outputs": [
        {
          "output_type": "execute_result",
          "data": {
            "text/plain": [
              "array([[26, 13,  6, 22, 20, 35, 24],\n",
              "       [35, 25, 17, 11, 15, 34,  2],\n",
              "       [35,  4, 24, 28, 21, 14, 10],\n",
              "       [14, 10, 17, 33, 27, 30, 15]])"
            ]
          },
          "metadata": {},
          "execution_count": 207
        }
      ]
    },
    {
      "cell_type": "code",
      "source": [
        "aa[2,4]"
      ],
      "metadata": {
        "colab": {
          "base_uri": "https://localhost:8080/"
        },
        "id": "WlqRNxJokQFm",
        "outputId": "d9fa3367-2fb2-4248-8efc-7c762495948b"
      },
      "execution_count": null,
      "outputs": [
        {
          "output_type": "execute_result",
          "data": {
            "text/plain": [
              "21"
            ]
          },
          "metadata": {},
          "execution_count": 208
        }
      ]
    },
    {
      "cell_type": "code",
      "source": [
        "aa[2:4,:]"
      ],
      "metadata": {
        "colab": {
          "base_uri": "https://localhost:8080/"
        },
        "id": "6ru9F1l8kQzz",
        "outputId": "19beb744-6c5b-48fa-ff77-f6258ddfa5bb"
      },
      "execution_count": null,
      "outputs": [
        {
          "output_type": "execute_result",
          "data": {
            "text/plain": [
              "array([[35,  4, 24, 28, 21, 14, 10],\n",
              "       [14, 10, 17, 33, 27, 30, 15]])"
            ]
          },
          "metadata": {},
          "execution_count": 209
        }
      ]
    },
    {
      "cell_type": "code",
      "source": [
        "aa[1:3,2:3]"
      ],
      "metadata": {
        "colab": {
          "base_uri": "https://localhost:8080/"
        },
        "id": "Ju_yCvMCpK2b",
        "outputId": "0d4c12ca-fbc7-4b43-ef6f-66c5261dcf2e"
      },
      "execution_count": null,
      "outputs": [
        {
          "output_type": "execute_result",
          "data": {
            "text/plain": [
              "array([[17],\n",
              "       [24]])"
            ]
          },
          "metadata": {},
          "execution_count": 210
        }
      ]
    },
    {
      "cell_type": "code",
      "source": [
        "aa[:,1:3]"
      ],
      "metadata": {
        "colab": {
          "base_uri": "https://localhost:8080/"
        },
        "id": "E2R8UrUapPUb",
        "outputId": "645b9719-486f-4db7-e1f2-206b626d975b"
      },
      "execution_count": null,
      "outputs": [
        {
          "output_type": "execute_result",
          "data": {
            "text/plain": [
              "array([[13,  6],\n",
              "       [25, 17],\n",
              "       [ 4, 24],\n",
              "       [10, 17]])"
            ]
          },
          "metadata": {},
          "execution_count": 211
        }
      ]
    },
    {
      "cell_type": "code",
      "source": [
        "aa[2:3,:]"
      ],
      "metadata": {
        "colab": {
          "base_uri": "https://localhost:8080/"
        },
        "id": "tMMmcmVsp7Ng",
        "outputId": "00fba60e-8537-4019-c5cd-d3f0657b0788"
      },
      "execution_count": null,
      "outputs": [
        {
          "output_type": "execute_result",
          "data": {
            "text/plain": [
              "array([[35,  4, 24, 28, 21, 14, 10]])"
            ]
          },
          "metadata": {},
          "execution_count": 212
        }
      ]
    },
    {
      "cell_type": "code",
      "source": [
        "c=aa>5\n",
        "print(c)"
      ],
      "metadata": {
        "colab": {
          "base_uri": "https://localhost:8080/"
        },
        "id": "-uXPJ2dOp9eU",
        "outputId": "a0aad23f-8d96-4e85-aca5-2f433ab5624a"
      },
      "execution_count": null,
      "outputs": [
        {
          "output_type": "stream",
          "name": "stdout",
          "text": [
            "[[ True  True  True  True  True  True  True]\n",
            " [ True  True  True  True  True  True False]\n",
            " [ True False  True  True  True  True  True]\n",
            " [ True  True  True  True  True  True  True]]\n"
          ]
        }
      ]
    },
    {
      "cell_type": "code",
      "source": [
        "b=np.sum(aa>5)"
      ],
      "metadata": {
        "id": "naUa-maSs12J"
      },
      "execution_count": null,
      "outputs": []
    },
    {
      "cell_type": "code",
      "source": [
        "b"
      ],
      "metadata": {
        "colab": {
          "base_uri": "https://localhost:8080/"
        },
        "id": "XIaqWut0s2em",
        "outputId": "7e6e1fb3-7445-4147-a486-152f8865451c"
      },
      "execution_count": null,
      "outputs": [
        {
          "output_type": "execute_result",
          "data": {
            "text/plain": [
              "26"
            ]
          },
          "metadata": {},
          "execution_count": 219
        }
      ]
    },
    {
      "cell_type": "code",
      "source": [
        "d=np.sum(aa>5,axis=0)\n",
        "print(d)"
      ],
      "metadata": {
        "colab": {
          "base_uri": "https://localhost:8080/"
        },
        "id": "Ca2yESpStIwa",
        "outputId": "fb4e2d64-339f-4230-df90-982280726df6"
      },
      "execution_count": null,
      "outputs": [
        {
          "output_type": "stream",
          "name": "stdout",
          "text": [
            "[4 3 4 4 4 4 3]\n"
          ]
        }
      ]
    },
    {
      "cell_type": "code",
      "source": [
        "f=np.sum(aa>5,axis=1)\n",
        "print(f)"
      ],
      "metadata": {
        "colab": {
          "base_uri": "https://localhost:8080/"
        },
        "id": "IB1fyFbPuW32",
        "outputId": "7d18cbd8-9223-443d-8d73-ad8fb3f66329"
      },
      "execution_count": null,
      "outputs": [
        {
          "output_type": "stream",
          "name": "stdout",
          "text": [
            "[7 6 6 7]\n"
          ]
        }
      ]
    },
    {
      "cell_type": "code",
      "source": [
        "np.argmax(aa)"
      ],
      "metadata": {
        "colab": {
          "base_uri": "https://localhost:8080/"
        },
        "id": "1cpv-Vd5un9U",
        "outputId": "3e83d0ab-22c7-41a9-a6d8-9d83da55270f"
      },
      "execution_count": null,
      "outputs": [
        {
          "output_type": "execute_result",
          "data": {
            "text/plain": [
              "5"
            ]
          },
          "metadata": {},
          "execution_count": 218
        }
      ]
    },
    {
      "cell_type": "code",
      "source": [
        "np.sum(aa,axis=1)"
      ],
      "metadata": {
        "colab": {
          "base_uri": "https://localhost:8080/"
        },
        "id": "yEMwUkrcwYNy",
        "outputId": "7e23ffa2-01bb-46fa-d3d0-76cb92f7affa"
      },
      "execution_count": null,
      "outputs": [
        {
          "output_type": "execute_result",
          "data": {
            "text/plain": [
              "array([146, 139, 136, 146])"
            ]
          },
          "metadata": {},
          "execution_count": 222
        }
      ]
    },
    {
      "cell_type": "code",
      "source": [
        "np.sum(aa,axis=0)"
      ],
      "metadata": {
        "colab": {
          "base_uri": "https://localhost:8080/"
        },
        "id": "_yStleJNAtO2",
        "outputId": "b84a9528-ddd8-4025-e794-373faf9355f8"
      },
      "execution_count": null,
      "outputs": [
        {
          "output_type": "execute_result",
          "data": {
            "text/plain": [
              "array([110,  52,  64,  94,  83, 113,  51])"
            ]
          },
          "metadata": {},
          "execution_count": 223
        }
      ]
    },
    {
      "cell_type": "code",
      "source": [
        "np.mean(aa,axis=1)"
      ],
      "metadata": {
        "colab": {
          "base_uri": "https://localhost:8080/"
        },
        "id": "ibrb2xmQAzR9",
        "outputId": "9f6ed1b7-e8cd-43af-e8e1-ba84d14006cc"
      },
      "execution_count": null,
      "outputs": [
        {
          "output_type": "execute_result",
          "data": {
            "text/plain": [
              "array([20.85714286, 19.85714286, 19.42857143, 20.85714286])"
            ]
          },
          "metadata": {},
          "execution_count": 224
        }
      ]
    },
    {
      "cell_type": "code",
      "source": [
        "np.mean(aa,axis=0)"
      ],
      "metadata": {
        "colab": {
          "base_uri": "https://localhost:8080/"
        },
        "id": "w_NJikBnA5zf",
        "outputId": "8c6f49de-5ceb-4427-d66d-028d2da6abe4"
      },
      "execution_count": null,
      "outputs": [
        {
          "output_type": "execute_result",
          "data": {
            "text/plain": [
              "array([27.5 , 13.  , 16.  , 23.5 , 20.75, 28.25, 12.75])"
            ]
          },
          "metadata": {},
          "execution_count": 225
        }
      ]
    },
    {
      "cell_type": "code",
      "source": [
        "aa.sum()"
      ],
      "metadata": {
        "colab": {
          "base_uri": "https://localhost:8080/"
        },
        "id": "Zeb0O6PEA9Ec",
        "outputId": "2ad54d2f-21a5-4fea-d062-dce7ca60c713"
      },
      "execution_count": null,
      "outputs": [
        {
          "output_type": "execute_result",
          "data": {
            "text/plain": [
              "567"
            ]
          },
          "metadata": {},
          "execution_count": 226
        }
      ]
    },
    {
      "cell_type": "code",
      "source": [
        "?np.median"
      ],
      "metadata": {
        "id": "IiLg-DttBEOJ"
      },
      "execution_count": null,
      "outputs": []
    },
    {
      "cell_type": "code",
      "source": [
        "?np.std"
      ],
      "metadata": {
        "id": "iyqLyOJ5BW3W"
      },
      "execution_count": null,
      "outputs": []
    },
    {
      "cell_type": "code",
      "source": [
        "dd=np.array([1,2,4,5])"
      ],
      "metadata": {
        "id": "xOm3gLVTBbvv"
      },
      "execution_count": null,
      "outputs": []
    },
    {
      "cell_type": "code",
      "source": [
        "dd"
      ],
      "metadata": {
        "colab": {
          "base_uri": "https://localhost:8080/"
        },
        "id": "Zi_GbyYQCAFH",
        "outputId": "3447ec4c-b0a9-4aa4-c0e1-776ae21fc2a7"
      },
      "execution_count": null,
      "outputs": [
        {
          "output_type": "execute_result",
          "data": {
            "text/plain": [
              "array([1, 2, 4, 5])"
            ]
          },
          "metadata": {},
          "execution_count": 231
        }
      ]
    },
    {
      "cell_type": "code",
      "source": [
        "np.arange(20,50,3)"
      ],
      "metadata": {
        "colab": {
          "base_uri": "https://localhost:8080/"
        },
        "id": "iXcpqnm7CA5c",
        "outputId": "0d039c3a-b735-4d33-a972-b1e4fbc832ec"
      },
      "execution_count": null,
      "outputs": [
        {
          "output_type": "execute_result",
          "data": {
            "text/plain": [
              "array([20, 23, 26, 29, 32, 35, 38, 41, 44, 47])"
            ]
          },
          "metadata": {},
          "execution_count": 232
        }
      ]
    },
    {
      "cell_type": "code",
      "source": [
        "np.arange(0,50,3)"
      ],
      "metadata": {
        "colab": {
          "base_uri": "https://localhost:8080/"
        },
        "id": "UPXXML1bCHK5",
        "outputId": "9531fba7-5238-45e2-e29c-3a69e7a0697c"
      },
      "execution_count": null,
      "outputs": [
        {
          "output_type": "execute_result",
          "data": {
            "text/plain": [
              "array([ 0,  3,  6,  9, 12, 15, 18, 21, 24, 27, 30, 33, 36, 39, 42, 45, 48])"
            ]
          },
          "metadata": {},
          "execution_count": 235
        }
      ]
    },
    {
      "cell_type": "code",
      "source": [
        "?np.random.rand"
      ],
      "metadata": {
        "id": "3yLOS2BUCOAI"
      },
      "execution_count": null,
      "outputs": []
    },
    {
      "cell_type": "code",
      "source": [
        "aa[1,:]"
      ],
      "metadata": {
        "colab": {
          "base_uri": "https://localhost:8080/"
        },
        "id": "2FE1TTVGCYsy",
        "outputId": "837e72c4-5207-474e-a8b8-fa57981f1103"
      },
      "execution_count": null,
      "outputs": [
        {
          "output_type": "execute_result",
          "data": {
            "text/plain": [
              "array([35, 25, 17, 11, 15, 34,  2])"
            ]
          },
          "metadata": {},
          "execution_count": 237
        }
      ]
    },
    {
      "cell_type": "code",
      "source": [],
      "metadata": {
        "id": "_V4j9FMyDDGY"
      },
      "execution_count": null,
      "outputs": []
    }
  ]
}